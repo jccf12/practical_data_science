{
 "cells": [
  {
   "cell_type": "code",
   "execution_count": 51,
   "metadata": {},
   "outputs": [],
   "source": [
    "# import packages\n",
    "import pandas as pd\n",
    "import numpy as np\n",
    "import seaborn as sns\n",
    "\n",
    "import matplotlib.pyplot as plt\n",
    "import matplotlib.mlab as mlab\n",
    "import matplotlib\n",
    "plt.style.use('ggplot')\n",
    "from matplotlib.pyplot import figure\n",
    "\n",
    "%matplotlib inline\n",
    "matplotlib.rcParams['figure.figsize'] = (12,8)\n",
    "\n",
    "pd.options.mode.chained_assignment = None"
   ]
  },
  {
   "cell_type": "code",
   "execution_count": 52,
   "metadata": {},
   "outputs": [
    {
     "name": "stdout",
     "output_type": "stream",
     "text": [
      "(329, 12)\n",
      "Unnamed: 0            int64\n",
      "Label                object\n",
      "Year Disappeared     object\n",
      "Year Born            object\n",
      "Resolved            float64\n",
      "Type                 object\n",
      "Mother's Name        object\n",
      "Father's Name        object\n",
      "Mother's Status      object\n",
      "Father's Status      object\n",
      "Extra Info           object\n",
      "URL                  object\n",
      "dtype: object\n",
      "['Unnamed: 0' 'Resolved']\n",
      "['Label' 'Year Disappeared' 'Year Born' 'Type' \"Mother's Name\"\n",
      " \"Father's Name\" \"Mother's Status\" \"Father's Status\" 'Extra Info' 'URL']\n"
     ]
    }
   ],
   "source": [
    "# read the data\n",
    "df = pd.read_csv('disappeared_children_dirty_data.csv')\n",
    "\n",
    "# shape and data types of the data\n",
    "print(df.shape)\n",
    "print(df.dtypes)\n",
    "\n",
    "# select numeric columns\n",
    "df_numeric = df.select_dtypes(include=[np.number])\n",
    "numeric_cols = df_numeric.columns.values\n",
    "print(numeric_cols)\n",
    "\n",
    "# select non numeric columns\n",
    "df_non_numeric = df.select_dtypes(exclude=[np.number])\n",
    "non_numeric_cols = df_non_numeric.columns.values\n",
    "print(non_numeric_cols)"
   ]
  },
  {
   "cell_type": "code",
   "execution_count": 53,
   "metadata": {},
   "outputs": [
    {
     "data": {
      "text/plain": [
       "<matplotlib.axes._subplots.AxesSubplot at 0x7fd1bb472da0>"
      ]
     },
     "execution_count": 53,
     "metadata": {},
     "output_type": "execute_result"
    },
    {
     "data": {
      "image/png": "[encoded data removed]",
      "text/plain": [
       "<Figure size 864x576 with 2 Axes>"
      ]
     },
     "metadata": {
      "needs_background": "light"
     },
     "output_type": "display_data"
    }
   ],
   "source": [
    "cols = df.columns # first 30 columns\n",
    "colours = ['#000099', '#ffff00'] # specify the colours - yellow is missing. blue is not missing.\n",
    "sns.heatmap(df[cols].isnull(), cmap=sns.color_palette(colours))"
   ]
  },
  {
   "cell_type": "code",
   "execution_count": 54,
   "metadata": {},
   "outputs": [
    {
     "name": "stdout",
     "output_type": "stream",
     "text": [
      "Unnamed: 0 - 0.0%\n",
      "Label - 0.0%\n",
      "Year Disappeared - 0.0%\n",
      "Year Born - 4.0%\n",
      "Resolved - 62.0%\n",
      "Type - 0.0%\n",
      "Mother's Name - 0.0%\n",
      "Father's Name - 2.0%\n",
      "Mother's Status - 0.0%\n",
      "Father's Status - 2.0%\n",
      "Extra Info - 3.0%\n",
      "URL - 0.0%\n"
     ]
    }
   ],
   "source": [
    "for col in df.columns:\n",
    "    pct_missing = np.mean(df[col].isnull())\n",
    "    print('{} - {}%'.format(col, round(pct_missing*100)))"
   ]
  },
  {
   "cell_type": "code",
   "execution_count": 55,
   "metadata": {},
   "outputs": [
    {
     "data": {
      "text/html": [
       "<div>\n",
       "<style scoped>\n",
       "    .dataframe tbody tr th:only-of-type {\n",
       "        vertical-align: middle;\n",
       "    }\n",
       "\n",
       "    .dataframe tbody tr th {\n",
       "        vertical-align: top;\n",
       "    }\n",
       "\n",
       "    .dataframe thead th {\n",
       "        text-align: right;\n",
       "    }\n",
       "</style>\n",
       "<table border=\"1\" class=\"dataframe\">\n",
       "  <thead>\n",
       "    <tr style=\"text-align: right;\">\n",
       "      <th></th>\n",
       "      <th>Unnamed: 0</th>\n",
       "      <th>Label</th>\n",
       "      <th>Year Disappeared</th>\n",
       "      <th>Year Born</th>\n",
       "      <th>Resolved</th>\n",
       "      <th>Type</th>\n",
       "      <th>Mother's Name</th>\n",
       "      <th>Father's Name</th>\n",
       "      <th>Mother's Status</th>\n",
       "      <th>Father's Status</th>\n",
       "      <th>Extra Info</th>\n",
       "      <th>URL</th>\n",
       "    </tr>\n",
       "  </thead>\n",
       "  <tbody>\n",
       "    <tr>\n",
       "      <td>0</td>\n",
       "      <td>0</td>\n",
       "      <td>ORZAOCOA - GÓMEZ</td>\n",
       "      <td>DisappearedMarch 21th, 1975</td>\n",
       "      <td>1975</td>\n",
       "      <td>NaN</td>\n",
       "      <td>Born in Captivity</td>\n",
       "      <td>María de las Mercedes  GÓMEZ</td>\n",
       "      <td>Carlos Normando ORZAOCOA</td>\n",
       "      <td>DisappearedMarch 21th, 1975</td>\n",
       "      <td>Not disappeared\\n</td>\n",
       "      <td>['\\n\\n']</td>\n",
       "      <td>https://abuelas.org.ar//idiomas/english/cases/...</td>\n",
       "    </tr>\n",
       "    <tr>\n",
       "      <td>1</td>\n",
       "      <td>1</td>\n",
       "      <td>VIVANCO - ABDALA</td>\n",
       "      <td>DisappearedJuly 25th, 1975</td>\n",
       "      <td>1975</td>\n",
       "      <td>NaN</td>\n",
       "      <td>Born in Captivity</td>\n",
       "      <td>Lilia Nora  ABDALA</td>\n",
       "      <td>José Alejandro  VIVANCO</td>\n",
       "      <td>DisappearedJuly 25th, 1975</td>\n",
       "      <td>Disappeared July 25th, 1975</td>\n",
       "      <td>['\\n\\n']</td>\n",
       "      <td>https://abuelas.org.ar//idiomas/english/cases/...</td>\n",
       "    </tr>\n",
       "    <tr>\n",
       "      <td>2</td>\n",
       "      <td>2</td>\n",
       "      <td>JEGER - GONZÁLEZ</td>\n",
       "      <td>DisappearedJuly 8th, 1975</td>\n",
       "      <td>1975</td>\n",
       "      <td>NaN</td>\n",
       "      <td>Born in Captivity</td>\n",
       "      <td>Olga Cristina GONZÁLEZ</td>\n",
       "      <td>Maurice JEGER</td>\n",
       "      <td>DisappearedJuly 8th, 1975</td>\n",
       "      <td>Disappeared July 8th, 1975</td>\n",
       "      <td>['\\n\\n']</td>\n",
       "      <td>https://abuelas.org.ar//idiomas/english/cases/...</td>\n",
       "    </tr>\n",
       "    <tr>\n",
       "      <td>3</td>\n",
       "      <td>3</td>\n",
       "      <td>FORNIES - FARIÑAS</td>\n",
       "      <td>DisappearedJune 14th, 1975</td>\n",
       "      <td>1975</td>\n",
       "      <td>NaN</td>\n",
       "      <td>Born in Captivity</td>\n",
       "      <td>Beatriz FARIÑAS</td>\n",
       "      <td>Hugo Enrique FORNIES</td>\n",
       "      <td>DisappearedJune 14th, 1975</td>\n",
       "      <td>Disappeared June 14th, 1975</td>\n",
       "      <td>['\\n\\n']</td>\n",
       "      <td>https://abuelas.org.ar//idiomas/english/cases/...</td>\n",
       "    </tr>\n",
       "    <tr>\n",
       "      <td>4</td>\n",
       "      <td>4</td>\n",
       "      <td>CHERTKOFF</td>\n",
       "      <td>DisappearedAugust 25th, 1975</td>\n",
       "      <td>1976</td>\n",
       "      <td>NaN</td>\n",
       "      <td>Born in Captivity</td>\n",
       "      <td>Mónica Roxana  CHERTKOFF</td>\n",
       "      <td></td>\n",
       "      <td>DisappearedAugust 25th, 1975</td>\n",
       "      <td></td>\n",
       "      <td>['\\n\\n']</td>\n",
       "      <td>https://abuelas.org.ar//idiomas/english/cases/...</td>\n",
       "    </tr>\n",
       "  </tbody>\n",
       "</table>\n",
       "</div>"
      ],
      "text/plain": [
       "   Unnamed: 0              Label              Year Disappeared Year Born  \\\n",
       "0           0   ORZAOCOA - GÓMEZ   DisappearedMarch 21th, 1975      1975   \n",
       "1           1   VIVANCO - ABDALA    DisappearedJuly 25th, 1975      1975   \n",
       "2           2   JEGER - GONZÁLEZ     DisappearedJuly 8th, 1975      1975   \n",
       "3           3  FORNIES - FARIÑAS    DisappearedJune 14th, 1975      1975   \n",
       "4           4          CHERTKOFF  DisappearedAugust 25th, 1975      1976   \n",
       "\n",
       "   Resolved               Type                 Mother's Name  \\\n",
       "0       NaN  Born in Captivity  María de las Mercedes  GÓMEZ   \n",
       "1       NaN  Born in Captivity            Lilia Nora  ABDALA   \n",
       "2       NaN  Born in Captivity        Olga Cristina GONZÁLEZ   \n",
       "3       NaN  Born in Captivity               Beatriz FARIÑAS   \n",
       "4       NaN  Born in Captivity      Mónica Roxana  CHERTKOFF   \n",
       "\n",
       "              Father's Name               Mother's Status  \\\n",
       "0  Carlos Normando ORZAOCOA   DisappearedMarch 21th, 1975   \n",
       "1   José Alejandro  VIVANCO    DisappearedJuly 25th, 1975   \n",
       "2             Maurice JEGER     DisappearedJuly 8th, 1975   \n",
       "3      Hugo Enrique FORNIES    DisappearedJune 14th, 1975   \n",
       "4                            DisappearedAugust 25th, 1975   \n",
       "\n",
       "               Father's Status Extra Info  \\\n",
       "0            Not disappeared\\n   ['\\n\\n']   \n",
       "1  Disappeared July 25th, 1975   ['\\n\\n']   \n",
       "2   Disappeared July 8th, 1975   ['\\n\\n']   \n",
       "3  Disappeared June 14th, 1975   ['\\n\\n']   \n",
       "4                                ['\\n\\n']   \n",
       "\n",
       "                                                 URL  \n",
       "0  https://abuelas.org.ar//idiomas/english/cases/...  \n",
       "1  https://abuelas.org.ar//idiomas/english/cases/...  \n",
       "2  https://abuelas.org.ar//idiomas/english/cases/...  \n",
       "3  https://abuelas.org.ar//idiomas/english/cases/...  \n",
       "4  https://abuelas.org.ar//idiomas/english/cases/...  "
      ]
     },
     "execution_count": 55,
     "metadata": {},
     "output_type": "execute_result"
    }
   ],
   "source": [
    "df.head()"
   ]
  },
  {
   "cell_type": "code",
   "execution_count": 56,
   "metadata": {},
   "outputs": [
    {
     "data": {
      "text/html": [
       "<div>\n",
       "<style scoped>\n",
       "    .dataframe tbody tr th:only-of-type {\n",
       "        vertical-align: middle;\n",
       "    }\n",
       "\n",
       "    .dataframe tbody tr th {\n",
       "        vertical-align: top;\n",
       "    }\n",
       "\n",
       "    .dataframe thead th {\n",
       "        text-align: right;\n",
       "    }\n",
       "</style>\n",
       "<table border=\"1\" class=\"dataframe\">\n",
       "  <thead>\n",
       "    <tr style=\"text-align: right;\">\n",
       "      <th></th>\n",
       "      <th>Unnamed: 0</th>\n",
       "      <th>Label</th>\n",
       "      <th>Year Disappeared</th>\n",
       "      <th>Year Born</th>\n",
       "      <th>Resolved</th>\n",
       "      <th>Type</th>\n",
       "      <th>Mother's Name</th>\n",
       "      <th>Father's Name</th>\n",
       "      <th>Mother's Status</th>\n",
       "      <th>Father's Status</th>\n",
       "      <th>Extra Info</th>\n",
       "      <th>URL</th>\n",
       "    </tr>\n",
       "  </thead>\n",
       "  <tbody>\n",
       "    <tr>\n",
       "      <td>0</td>\n",
       "      <td>0</td>\n",
       "      <td>ORZAOCOA - GÓMEZ</td>\n",
       "      <td>DisappearedMarch 21th, 1975</td>\n",
       "      <td>1975</td>\n",
       "      <td>NaN</td>\n",
       "      <td>Born in Captivity</td>\n",
       "      <td>María de las Mercedes  GÓMEZ</td>\n",
       "      <td>Carlos Normando ORZAOCOA</td>\n",
       "      <td>DisappearedMarch 21th, 1975</td>\n",
       "      <td>Not disappeared\\n</td>\n",
       "      <td>['\\n\\n']</td>\n",
       "      <td>https://abuelas.org.ar//idiomas/english/cases/...</td>\n",
       "    </tr>\n",
       "  </tbody>\n",
       "</table>\n",
       "</div>"
      ],
      "text/plain": [
       "   Unnamed: 0             Label             Year Disappeared Year Born  \\\n",
       "0           0  ORZAOCOA - GÓMEZ  DisappearedMarch 21th, 1975      1975   \n",
       "\n",
       "   Resolved               Type                 Mother's Name  \\\n",
       "0       NaN  Born in Captivity  María de las Mercedes  GÓMEZ   \n",
       "\n",
       "              Father's Name              Mother's Status    Father's Status  \\\n",
       "0  Carlos Normando ORZAOCOA  DisappearedMarch 21th, 1975  Not disappeared\\n   \n",
       "\n",
       "  Extra Info                                                URL  \n",
       "0   ['\\n\\n']  https://abuelas.org.ar//idiomas/english/cases/...  "
      ]
     },
     "execution_count": 56,
     "metadata": {},
     "output_type": "execute_result"
    }
   ],
   "source": [
    "df[0:1]"
   ]
  },
  {
   "cell_type": "code",
   "execution_count": 57,
   "metadata": {},
   "outputs": [
    {
     "data": {
      "text/plain": [
       "Index(['Unnamed: 0', 'Label', 'Year Disappeared', 'Year Born', 'Resolved',\n",
       "       'Type', 'Mother's Name', 'Father's Name', 'Mother's Status',\n",
       "       'Father's Status', 'Extra Info', 'URL'],\n",
       "      dtype='object')"
      ]
     },
     "execution_count": 57,
     "metadata": {},
     "output_type": "execute_result"
    }
   ],
   "source": [
    "df.columns"
   ]
  },
  {
   "cell_type": "code",
   "execution_count": 111,
   "metadata": {},
   "outputs": [],
   "source": [
    "#adding new columns to store year only and full date\n",
    "df[\"Year Dis\"] = \"NA\""
   ]
  },
  {
   "cell_type": "code",
   "execution_count": 113,
   "metadata": {},
   "outputs": [],
   "source": [
    "for i in range(df.shape[0]):\n",
    "    dirty_val = df[\"Year Disappeared\"][i]\n",
    "    year = ''\n",
    "    for ch in dirty_val:\n",
    "        if len(year) < 4:\n",
    "            if ch.isnumeric():\n",
    "                year+=ch\n",
    "            else:\n",
    "                year=''\n",
    "        else:\n",
    "            break\n",
    "    if year:\n",
    "        df[\"Year Dis\"][i] = int(year)\n",
    "    else:\n",
    "        df[\"Year Dis\"][i] = np.NaN"
   ]
  },
  {
   "cell_type": "code",
   "execution_count": 122,
   "metadata": {},
   "outputs": [],
   "source": [
    "df[\"Yr Born\"] = \"NA\""
   ]
  },
  {
   "cell_type": "code",
   "execution_count": 152,
   "metadata": {},
   "outputs": [],
   "source": [
    "for i in range(df.shape[0]):\n",
    "    dirty_val = df[\"Year Born\"][i]\n",
    "    if dirty_val:\n",
    "        if type(dirty_val) == float:\n",
    "            dirty_val = \"\"\n",
    "        year = ''\n",
    "        for ch in dirty_val:\n",
    "            if len(year) < 4:\n",
    "                if ch.isnumeric():\n",
    "                    year+=ch\n",
    "                else:\n",
    "                    year=''\n",
    "            else:\n",
    "                break\n",
    "        if year:\n",
    "            df[\"Yr Born\"][i] = int(year)\n",
    "        else:\n",
    "            df[\"Yr Born\"][i] = np.NaN\n",
    "    else:\n",
    "        df[\"Yr Born\"][i] = np.NaN"
   ]
  },
  {
   "cell_type": "code",
   "execution_count": 170,
   "metadata": {
    "scrolled": true
   },
   "outputs": [],
   "source": [
    "# for i in range(df.shape[0]):\n",
    "#     print(df.Resolved[i] == np.nan)"
   ]
  },
  {
   "cell_type": "code",
   "execution_count": 135,
   "metadata": {},
   "outputs": [
    {
     "data": {
      "text/plain": [
       "False"
      ]
     },
     "execution_count": 135,
     "metadata": {},
     "output_type": "execute_result"
    }
   ],
   "source": [
    "type(1) == float"
   ]
  },
  {
   "cell_type": "code",
   "execution_count": 150,
   "metadata": {},
   "outputs": [
    {
     "data": {
      "text/plain": [
       "nan"
      ]
     },
     "execution_count": 150,
     "metadata": {},
     "output_type": "execute_result"
    }
   ],
   "source": [
    "float(\"nan\")"
   ]
  },
  {
   "cell_type": "code",
   "execution_count": null,
   "metadata": {},
   "outputs": [],
   "source": []
  }
 ],
 "metadata": {
  "kernelspec": {
   "display_name": "Python 3",
   "language": "python",
   "name": "python3"
  },
  "language_info": {
   "codemirror_mode": {
    "name": "ipython",
    "version": 3
   },
   "file_extension": ".py",
   "mimetype": "text/x-python",
   "name": "python",
   "nbconvert_exporter": "python",
   "pygments_lexer": "ipython3",
   "version": "3.8.3"
  }
 },
 "nbformat": 4,
 "nbformat_minor": 2
}
