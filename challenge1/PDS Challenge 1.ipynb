{
 "cells": [
  {
   "cell_type": "markdown",
   "metadata": {},
   "source": [
    "#### Resources\n",
    "\n",
    "https://code.visualstudio.com/docs/python/data-science-tutorial\n",
    "\n",
    "https://scikit-learn.org/stable/user_guide.html\n",
    "\n",
    "https://scikit-learn.org/stable/tutorial/machine_learning_map/index.html"
   ]
  },
  {
   "cell_type": "code",
   "execution_count": 1,
   "metadata": {},
   "outputs": [],
   "source": [
    "# import packages\n",
    "import pandas as pd\n",
    "import numpy as np\n",
    "import seaborn as sns\n",
    "\n",
    "import matplotlib.pyplot as plt\n",
    "import matplotlib.mlab as mlab\n",
    "import matplotlib\n",
    "plt.style.use('ggplot')\n",
    "from matplotlib.pyplot import figure\n",
    "\n",
    "%matplotlib inline\n",
    "matplotlib.rcParams['figure.figsize'] = (12,8)\n",
    "\n",
    "pd.options.mode.chained_assignment = None"
   ]
  },
  {
   "cell_type": "markdown",
   "metadata": {},
   "source": [
    "### Exploring the data"
   ]
  },
  {
   "cell_type": "code",
   "execution_count": 40,
   "metadata": {
    "scrolled": true
   },
   "outputs": [
    {
     "data": {
      "text/html": [
       "<div>\n",
       "<style scoped>\n",
       "    .dataframe tbody tr th:only-of-type {\n",
       "        vertical-align: middle;\n",
       "    }\n",
       "\n",
       "    .dataframe tbody tr th {\n",
       "        vertical-align: top;\n",
       "    }\n",
       "\n",
       "    .dataframe thead th {\n",
       "        text-align: right;\n",
       "    }\n",
       "</style>\n",
       "<table border=\"1\" class=\"dataframe\">\n",
       "  <thead>\n",
       "    <tr style=\"text-align: right;\">\n",
       "      <th></th>\n",
       "      <th>PassengerId</th>\n",
       "      <th>Survived</th>\n",
       "      <th>Pclass</th>\n",
       "      <th>Name</th>\n",
       "      <th>Sex</th>\n",
       "      <th>Age</th>\n",
       "      <th>SibSp</th>\n",
       "      <th>Parch</th>\n",
       "      <th>Ticket</th>\n",
       "      <th>Fare</th>\n",
       "      <th>Cabin</th>\n",
       "      <th>Embarked</th>\n",
       "    </tr>\n",
       "  </thead>\n",
       "  <tbody>\n",
       "    <tr>\n",
       "      <th>0</th>\n",
       "      <td>1</td>\n",
       "      <td>0</td>\n",
       "      <td>3</td>\n",
       "      <td>Braund, Mr. Owen Harris</td>\n",
       "      <td>male</td>\n",
       "      <td>22.0</td>\n",
       "      <td>1</td>\n",
       "      <td>0</td>\n",
       "      <td>A/5 21171</td>\n",
       "      <td>7.2500</td>\n",
       "      <td>NaN</td>\n",
       "      <td>S</td>\n",
       "    </tr>\n",
       "    <tr>\n",
       "      <th>1</th>\n",
       "      <td>2</td>\n",
       "      <td>1</td>\n",
       "      <td>1</td>\n",
       "      <td>Cumings, Mrs. John Bradley (Florence Briggs Th...</td>\n",
       "      <td>female</td>\n",
       "      <td>38.0</td>\n",
       "      <td>1</td>\n",
       "      <td>0</td>\n",
       "      <td>PC 17599</td>\n",
       "      <td>71.2833</td>\n",
       "      <td>C85</td>\n",
       "      <td>C</td>\n",
       "    </tr>\n",
       "    <tr>\n",
       "      <th>2</th>\n",
       "      <td>3</td>\n",
       "      <td>1</td>\n",
       "      <td>3</td>\n",
       "      <td>Heikkinen, Miss. Laina</td>\n",
       "      <td>female</td>\n",
       "      <td>26.0</td>\n",
       "      <td>0</td>\n",
       "      <td>0</td>\n",
       "      <td>STON/O2. 3101282</td>\n",
       "      <td>7.9250</td>\n",
       "      <td>NaN</td>\n",
       "      <td>S</td>\n",
       "    </tr>\n",
       "    <tr>\n",
       "      <th>3</th>\n",
       "      <td>4</td>\n",
       "      <td>1</td>\n",
       "      <td>1</td>\n",
       "      <td>Futrelle, Mrs. Jacques Heath (Lily May Peel)</td>\n",
       "      <td>female</td>\n",
       "      <td>35.0</td>\n",
       "      <td>1</td>\n",
       "      <td>0</td>\n",
       "      <td>113803</td>\n",
       "      <td>53.1000</td>\n",
       "      <td>C123</td>\n",
       "      <td>S</td>\n",
       "    </tr>\n",
       "    <tr>\n",
       "      <th>4</th>\n",
       "      <td>5</td>\n",
       "      <td>0</td>\n",
       "      <td>3</td>\n",
       "      <td>Allen, Mr. William Henry</td>\n",
       "      <td>male</td>\n",
       "      <td>35.0</td>\n",
       "      <td>0</td>\n",
       "      <td>0</td>\n",
       "      <td>373450</td>\n",
       "      <td>8.0500</td>\n",
       "      <td>NaN</td>\n",
       "      <td>S</td>\n",
       "    </tr>\n",
       "    <tr>\n",
       "      <th>5</th>\n",
       "      <td>6</td>\n",
       "      <td>0</td>\n",
       "      <td>3</td>\n",
       "      <td>Moran, Mr. James</td>\n",
       "      <td>male</td>\n",
       "      <td>NaN</td>\n",
       "      <td>0</td>\n",
       "      <td>0</td>\n",
       "      <td>330877</td>\n",
       "      <td>8.4583</td>\n",
       "      <td>NaN</td>\n",
       "      <td>Q</td>\n",
       "    </tr>\n",
       "    <tr>\n",
       "      <th>6</th>\n",
       "      <td>7</td>\n",
       "      <td>0</td>\n",
       "      <td>1</td>\n",
       "      <td>McCarthy, Mr. Timothy J</td>\n",
       "      <td>male</td>\n",
       "      <td>54.0</td>\n",
       "      <td>0</td>\n",
       "      <td>0</td>\n",
       "      <td>17463</td>\n",
       "      <td>51.8625</td>\n",
       "      <td>E46</td>\n",
       "      <td>S</td>\n",
       "    </tr>\n",
       "    <tr>\n",
       "      <th>7</th>\n",
       "      <td>8</td>\n",
       "      <td>0</td>\n",
       "      <td>3</td>\n",
       "      <td>Palsson, Master. Gosta Leonard</td>\n",
       "      <td>male</td>\n",
       "      <td>2.0</td>\n",
       "      <td>3</td>\n",
       "      <td>1</td>\n",
       "      <td>349909</td>\n",
       "      <td>21.0750</td>\n",
       "      <td>NaN</td>\n",
       "      <td>S</td>\n",
       "    </tr>\n",
       "    <tr>\n",
       "      <th>8</th>\n",
       "      <td>9</td>\n",
       "      <td>1</td>\n",
       "      <td>3</td>\n",
       "      <td>Johnson, Mrs. Oscar W (Elisabeth Vilhelmina Berg)</td>\n",
       "      <td>female</td>\n",
       "      <td>27.0</td>\n",
       "      <td>0</td>\n",
       "      <td>2</td>\n",
       "      <td>347742</td>\n",
       "      <td>11.1333</td>\n",
       "      <td>NaN</td>\n",
       "      <td>S</td>\n",
       "    </tr>\n",
       "    <tr>\n",
       "      <th>9</th>\n",
       "      <td>10</td>\n",
       "      <td>1</td>\n",
       "      <td>2</td>\n",
       "      <td>Nasser, Mrs. Nicholas (Adele Achem)</td>\n",
       "      <td>female</td>\n",
       "      <td>14.0</td>\n",
       "      <td>1</td>\n",
       "      <td>0</td>\n",
       "      <td>237736</td>\n",
       "      <td>30.0708</td>\n",
       "      <td>NaN</td>\n",
       "      <td>C</td>\n",
       "    </tr>\n",
       "  </tbody>\n",
       "</table>\n",
       "</div>"
      ],
      "text/plain": [
       "   PassengerId  Survived  Pclass  \\\n",
       "0            1         0       3   \n",
       "1            2         1       1   \n",
       "2            3         1       3   \n",
       "3            4         1       1   \n",
       "4            5         0       3   \n",
       "5            6         0       3   \n",
       "6            7         0       1   \n",
       "7            8         0       3   \n",
       "8            9         1       3   \n",
       "9           10         1       2   \n",
       "\n",
       "                                                Name     Sex   Age  SibSp  \\\n",
       "0                            Braund, Mr. Owen Harris    male  22.0      1   \n",
       "1  Cumings, Mrs. John Bradley (Florence Briggs Th...  female  38.0      1   \n",
       "2                             Heikkinen, Miss. Laina  female  26.0      0   \n",
       "3       Futrelle, Mrs. Jacques Heath (Lily May Peel)  female  35.0      1   \n",
       "4                           Allen, Mr. William Henry    male  35.0      0   \n",
       "5                                   Moran, Mr. James    male   NaN      0   \n",
       "6                            McCarthy, Mr. Timothy J    male  54.0      0   \n",
       "7                     Palsson, Master. Gosta Leonard    male   2.0      3   \n",
       "8  Johnson, Mrs. Oscar W (Elisabeth Vilhelmina Berg)  female  27.0      0   \n",
       "9                Nasser, Mrs. Nicholas (Adele Achem)  female  14.0      1   \n",
       "\n",
       "   Parch            Ticket     Fare Cabin Embarked  \n",
       "0      0         A/5 21171   7.2500   NaN        S  \n",
       "1      0          PC 17599  71.2833   C85        C  \n",
       "2      0  STON/O2. 3101282   7.9250   NaN        S  \n",
       "3      0            113803  53.1000  C123        S  \n",
       "4      0            373450   8.0500   NaN        S  \n",
       "5      0            330877   8.4583   NaN        Q  \n",
       "6      0             17463  51.8625   E46        S  \n",
       "7      1            349909  21.0750   NaN        S  \n",
       "8      2            347742  11.1333   NaN        S  \n",
       "9      0            237736  30.0708   NaN        C  "
      ]
     },
     "execution_count": 40,
     "metadata": {},
     "output_type": "execute_result"
    }
   ],
   "source": [
    "#reading data\n",
    "data = pd.read_csv(\"train.csv\")\n",
    "data.head(10)"
   ]
  },
  {
   "cell_type": "code",
   "execution_count": 41,
   "metadata": {},
   "outputs": [
    {
     "data": {
      "text/html": [
       "<div>\n",
       "<style scoped>\n",
       "    .dataframe tbody tr th:only-of-type {\n",
       "        vertical-align: middle;\n",
       "    }\n",
       "\n",
       "    .dataframe tbody tr th {\n",
       "        vertical-align: top;\n",
       "    }\n",
       "\n",
       "    .dataframe thead th {\n",
       "        text-align: right;\n",
       "    }\n",
       "</style>\n",
       "<table border=\"1\" class=\"dataframe\">\n",
       "  <thead>\n",
       "    <tr style=\"text-align: right;\">\n",
       "      <th></th>\n",
       "      <th>PassengerId</th>\n",
       "      <th>Pclass</th>\n",
       "      <th>Name</th>\n",
       "      <th>Sex</th>\n",
       "      <th>Age</th>\n",
       "      <th>SibSp</th>\n",
       "      <th>Parch</th>\n",
       "      <th>Ticket</th>\n",
       "      <th>Fare</th>\n",
       "      <th>Cabin</th>\n",
       "      <th>Embarked</th>\n",
       "    </tr>\n",
       "  </thead>\n",
       "  <tbody>\n",
       "    <tr>\n",
       "      <th>0</th>\n",
       "      <td>892</td>\n",
       "      <td>3</td>\n",
       "      <td>Kelly, Mr. James</td>\n",
       "      <td>male</td>\n",
       "      <td>34.5</td>\n",
       "      <td>0</td>\n",
       "      <td>0</td>\n",
       "      <td>330911</td>\n",
       "      <td>7.8292</td>\n",
       "      <td>NaN</td>\n",
       "      <td>Q</td>\n",
       "    </tr>\n",
       "    <tr>\n",
       "      <th>1</th>\n",
       "      <td>893</td>\n",
       "      <td>3</td>\n",
       "      <td>Wilkes, Mrs. James (Ellen Needs)</td>\n",
       "      <td>female</td>\n",
       "      <td>47.0</td>\n",
       "      <td>1</td>\n",
       "      <td>0</td>\n",
       "      <td>363272</td>\n",
       "      <td>7.0000</td>\n",
       "      <td>NaN</td>\n",
       "      <td>S</td>\n",
       "    </tr>\n",
       "    <tr>\n",
       "      <th>2</th>\n",
       "      <td>894</td>\n",
       "      <td>2</td>\n",
       "      <td>Myles, Mr. Thomas Francis</td>\n",
       "      <td>male</td>\n",
       "      <td>62.0</td>\n",
       "      <td>0</td>\n",
       "      <td>0</td>\n",
       "      <td>240276</td>\n",
       "      <td>9.6875</td>\n",
       "      <td>NaN</td>\n",
       "      <td>Q</td>\n",
       "    </tr>\n",
       "    <tr>\n",
       "      <th>3</th>\n",
       "      <td>895</td>\n",
       "      <td>3</td>\n",
       "      <td>Wirz, Mr. Albert</td>\n",
       "      <td>male</td>\n",
       "      <td>27.0</td>\n",
       "      <td>0</td>\n",
       "      <td>0</td>\n",
       "      <td>315154</td>\n",
       "      <td>8.6625</td>\n",
       "      <td>NaN</td>\n",
       "      <td>S</td>\n",
       "    </tr>\n",
       "    <tr>\n",
       "      <th>4</th>\n",
       "      <td>896</td>\n",
       "      <td>3</td>\n",
       "      <td>Hirvonen, Mrs. Alexander (Helga E Lindqvist)</td>\n",
       "      <td>female</td>\n",
       "      <td>22.0</td>\n",
       "      <td>1</td>\n",
       "      <td>1</td>\n",
       "      <td>3101298</td>\n",
       "      <td>12.2875</td>\n",
       "      <td>NaN</td>\n",
       "      <td>S</td>\n",
       "    </tr>\n",
       "    <tr>\n",
       "      <th>5</th>\n",
       "      <td>897</td>\n",
       "      <td>3</td>\n",
       "      <td>Svensson, Mr. Johan Cervin</td>\n",
       "      <td>male</td>\n",
       "      <td>14.0</td>\n",
       "      <td>0</td>\n",
       "      <td>0</td>\n",
       "      <td>7538</td>\n",
       "      <td>9.2250</td>\n",
       "      <td>NaN</td>\n",
       "      <td>S</td>\n",
       "    </tr>\n",
       "    <tr>\n",
       "      <th>6</th>\n",
       "      <td>898</td>\n",
       "      <td>3</td>\n",
       "      <td>Connolly, Miss. Kate</td>\n",
       "      <td>female</td>\n",
       "      <td>30.0</td>\n",
       "      <td>0</td>\n",
       "      <td>0</td>\n",
       "      <td>330972</td>\n",
       "      <td>7.6292</td>\n",
       "      <td>NaN</td>\n",
       "      <td>Q</td>\n",
       "    </tr>\n",
       "    <tr>\n",
       "      <th>7</th>\n",
       "      <td>899</td>\n",
       "      <td>2</td>\n",
       "      <td>Caldwell, Mr. Albert Francis</td>\n",
       "      <td>male</td>\n",
       "      <td>26.0</td>\n",
       "      <td>1</td>\n",
       "      <td>1</td>\n",
       "      <td>248738</td>\n",
       "      <td>29.0000</td>\n",
       "      <td>NaN</td>\n",
       "      <td>S</td>\n",
       "    </tr>\n",
       "    <tr>\n",
       "      <th>8</th>\n",
       "      <td>900</td>\n",
       "      <td>3</td>\n",
       "      <td>Abrahim, Mrs. Joseph (Sophie Halaut Easu)</td>\n",
       "      <td>female</td>\n",
       "      <td>18.0</td>\n",
       "      <td>0</td>\n",
       "      <td>0</td>\n",
       "      <td>2657</td>\n",
       "      <td>7.2292</td>\n",
       "      <td>NaN</td>\n",
       "      <td>C</td>\n",
       "    </tr>\n",
       "    <tr>\n",
       "      <th>9</th>\n",
       "      <td>901</td>\n",
       "      <td>3</td>\n",
       "      <td>Davies, Mr. John Samuel</td>\n",
       "      <td>male</td>\n",
       "      <td>21.0</td>\n",
       "      <td>2</td>\n",
       "      <td>0</td>\n",
       "      <td>A/4 48871</td>\n",
       "      <td>24.1500</td>\n",
       "      <td>NaN</td>\n",
       "      <td>S</td>\n",
       "    </tr>\n",
       "  </tbody>\n",
       "</table>\n",
       "</div>"
      ],
      "text/plain": [
       "   PassengerId  Pclass                                          Name     Sex  \\\n",
       "0          892       3                              Kelly, Mr. James    male   \n",
       "1          893       3              Wilkes, Mrs. James (Ellen Needs)  female   \n",
       "2          894       2                     Myles, Mr. Thomas Francis    male   \n",
       "3          895       3                              Wirz, Mr. Albert    male   \n",
       "4          896       3  Hirvonen, Mrs. Alexander (Helga E Lindqvist)  female   \n",
       "5          897       3                    Svensson, Mr. Johan Cervin    male   \n",
       "6          898       3                          Connolly, Miss. Kate  female   \n",
       "7          899       2                  Caldwell, Mr. Albert Francis    male   \n",
       "8          900       3     Abrahim, Mrs. Joseph (Sophie Halaut Easu)  female   \n",
       "9          901       3                       Davies, Mr. John Samuel    male   \n",
       "\n",
       "    Age  SibSp  Parch     Ticket     Fare Cabin Embarked  \n",
       "0  34.5      0      0     330911   7.8292   NaN        Q  \n",
       "1  47.0      1      0     363272   7.0000   NaN        S  \n",
       "2  62.0      0      0     240276   9.6875   NaN        Q  \n",
       "3  27.0      0      0     315154   8.6625   NaN        S  \n",
       "4  22.0      1      1    3101298  12.2875   NaN        S  \n",
       "5  14.0      0      0       7538   9.2250   NaN        S  \n",
       "6  30.0      0      0     330972   7.6292   NaN        Q  \n",
       "7  26.0      1      1     248738  29.0000   NaN        S  \n",
       "8  18.0      0      0       2657   7.2292   NaN        C  \n",
       "9  21.0      2      0  A/4 48871  24.1500   NaN        S  "
      ]
     },
     "execution_count": 41,
     "metadata": {},
     "output_type": "execute_result"
    }
   ],
   "source": [
    "test = pd.read_csv(\"test.csv\")\n",
    "test.head(10)"
   ]
  },
  {
   "cell_type": "code",
   "execution_count": 44,
   "metadata": {},
   "outputs": [
    {
     "name": "stdout",
     "output_type": "stream",
     "text": [
      "(891, 12)\n",
      "PassengerId      int64\n",
      "Survived         int64\n",
      "Pclass           int64\n",
      "Name            object\n",
      "Sex             object\n",
      "Age            float64\n",
      "SibSp            int64\n",
      "Parch            int64\n",
      "Ticket          object\n",
      "Fare           float64\n",
      "Cabin           object\n",
      "Embarked        object\n",
      "dtype: object\n"
     ]
    }
   ],
   "source": [
    "# shape and data types of the data\n",
    "print(data.shape)\n",
    "print(data.dtypes)"
   ]
  },
  {
   "cell_type": "code",
   "execution_count": 45,
   "metadata": {},
   "outputs": [
    {
     "name": "stdout",
     "output_type": "stream",
     "text": [
      "(418, 11)\n",
      "PassengerId      int64\n",
      "Pclass           int64\n",
      "Name            object\n",
      "Sex             object\n",
      "Age            float64\n",
      "SibSp            int64\n",
      "Parch            int64\n",
      "Ticket          object\n",
      "Fare           float64\n",
      "Cabin           object\n",
      "Embarked        object\n",
      "dtype: object\n"
     ]
    }
   ],
   "source": [
    "print(test.shape)\n",
    "print(test.dtypes)"
   ]
  },
  {
   "cell_type": "code",
   "execution_count": 4,
   "metadata": {},
   "outputs": [
    {
     "data": {
      "text/plain": [
       "<AxesSubplot:>"
      ]
     },
     "execution_count": 4,
     "metadata": {},
     "output_type": "execute_result"
    },
    {
     "data": {
      "image/png": "[encoded data removed]",
      "text/plain": [
       "<Figure size 864x576 with 2 Axes>"
      ]
     },
     "metadata": {
      "needs_background": "light"
     },
     "output_type": "display_data"
    }
   ],
   "source": [
    "cols = data.columns\n",
    "colours = ['#000099', '#ffff00'] # specify the colours - yellow is missing. blue is not missing.\n",
    "sns.heatmap(data[cols].isnull(), cmap=sns.color_palette(colours))"
   ]
  },
  {
   "cell_type": "code",
   "execution_count": 48,
   "metadata": {},
   "outputs": [
    {
     "data": {
      "text/plain": [
       "array([['C85'],\n",
       "       ['C123'],\n",
       "       ['E46'],\n",
       "       ['G6'],\n",
       "       ['C103'],\n",
       "       ['D56'],\n",
       "       ['A6'],\n",
       "       ['C23 C25 C27'],\n",
       "       ['B78'],\n",
       "       ['D33'],\n",
       "       ['B30'],\n",
       "       ['C52'],\n",
       "       ['B28'],\n",
       "       ['C83'],\n",
       "       ['F33'],\n",
       "       ['F G73'],\n",
       "       ['C23 C25 C27'],\n",
       "       ['E31'],\n",
       "       ['A5'],\n",
       "       ['D10 D12'],\n",
       "       ['D26'],\n",
       "       ['C110'],\n",
       "       ['B58 B60'],\n",
       "       ['E101'],\n",
       "       ['D26'],\n",
       "       ['F E69'],\n",
       "       ['D47'],\n",
       "       ['C123'],\n",
       "       ['B86'],\n",
       "       ['F2'],\n",
       "       ['C2'],\n",
       "       ['E33'],\n",
       "       ['B19'],\n",
       "       ['A7'],\n",
       "       ['C49'],\n",
       "       ['F4'],\n",
       "       ['A32'],\n",
       "       ['F2'],\n",
       "       ['B4'],\n",
       "       ['B80'],\n",
       "       ['G6'],\n",
       "       ['A31'],\n",
       "       ['D36'],\n",
       "       ['D15'],\n",
       "       ['C93'],\n",
       "       ['C83'],\n",
       "       ['C78'],\n",
       "       ['D35'],\n",
       "       ['G6'],\n",
       "       ['C87'],\n",
       "       ['B77'],\n",
       "       ['E67'],\n",
       "       ['B94'],\n",
       "       ['C125'],\n",
       "       ['C99'],\n",
       "       ['C118'],\n",
       "       ['D7'],\n",
       "       ['A19'],\n",
       "       ['B49'],\n",
       "       ['D'],\n",
       "       ['C22 C26'],\n",
       "       ['C106'],\n",
       "       ['B58 B60'],\n",
       "       ['E101'],\n",
       "       ['C22 C26'],\n",
       "       ['C65'],\n",
       "       ['E36'],\n",
       "       ['C54'],\n",
       "       ['B57 B59 B63 B66'],\n",
       "       ['C7'],\n",
       "       ['E34'],\n",
       "       ['C32'],\n",
       "       ['D'],\n",
       "       ['B18'],\n",
       "       ['C124'],\n",
       "       ['C91'],\n",
       "       ['C2'],\n",
       "       ['E40'],\n",
       "       ['T'],\n",
       "       ['F2'],\n",
       "       ['C23 C25 C27'],\n",
       "       ['F33'],\n",
       "       ['C128'],\n",
       "       ['E33'],\n",
       "       ['D37'],\n",
       "       ['B35'],\n",
       "       ['E50'],\n",
       "       ['C82'],\n",
       "       ['B96 B98'],\n",
       "       ['D36'],\n",
       "       ['G6'],\n",
       "       ['C78'],\n",
       "       ['E10'],\n",
       "       ['C52'],\n",
       "       ['E44'],\n",
       "       ['B96 B98'],\n",
       "       ['C23 C25 C27'],\n",
       "       ['A34'],\n",
       "       ['C104'],\n",
       "       ['C111'],\n",
       "       ['C92'],\n",
       "       ['E38'],\n",
       "       ['D21'],\n",
       "       ['E12'],\n",
       "       ['E63'],\n",
       "       ['D'],\n",
       "       ['A14'],\n",
       "       ['B49'],\n",
       "       ['C93'],\n",
       "       ['B37'],\n",
       "       ['C30'],\n",
       "       ['D20'],\n",
       "       ['C22 C26'],\n",
       "       ['B79'],\n",
       "       ['C65'],\n",
       "       ['E25'],\n",
       "       ['D46'],\n",
       "       ['F33'],\n",
       "       ['B73'],\n",
       "       ['B18'],\n",
       "       ['C95'],\n",
       "       ['B38'],\n",
       "       ['B39'],\n",
       "       ['B22'],\n",
       "       ['C86'],\n",
       "       ['C70'],\n",
       "       ['A16'],\n",
       "       ['E67'],\n",
       "       ['C101'],\n",
       "       ['E25'],\n",
       "       ['E44'],\n",
       "       ['C68'],\n",
       "       ['A10'],\n",
       "       ['E68'],\n",
       "       ['B41'],\n",
       "       ['D20'],\n",
       "       ['A20'],\n",
       "       ['C125'],\n",
       "       ['F4'],\n",
       "       ['D19'],\n",
       "       ['D50'],\n",
       "       ['D9'],\n",
       "       ['A23'],\n",
       "       ['B50'],\n",
       "       ['B35'],\n",
       "       ['D33'],\n",
       "       ['A26'],\n",
       "       ['D48'],\n",
       "       ['E58'],\n",
       "       ['C126'],\n",
       "       ['B71'],\n",
       "       ['B51 B53 B55'],\n",
       "       ['D49'],\n",
       "       ['B5'],\n",
       "       ['B20'],\n",
       "       ['C68'],\n",
       "       ['F G63'],\n",
       "       ['C62 C64'],\n",
       "       ['E24'],\n",
       "       ['E24'],\n",
       "       ['C90'],\n",
       "       ['C124'],\n",
       "       ['C126'],\n",
       "       ['F G73'],\n",
       "       ['C45'],\n",
       "       ['E101'],\n",
       "       ['E8'],\n",
       "       ['B5'],\n",
       "       ['B101'],\n",
       "       ['D45'],\n",
       "       ['C46'],\n",
       "       ['B57 B59 B63 B66'],\n",
       "       ['B22'],\n",
       "       ['D30'],\n",
       "       ['E121'],\n",
       "       ['B77'],\n",
       "       ['B96 B98'],\n",
       "       ['D11'],\n",
       "       ['E77'],\n",
       "       ['F38'],\n",
       "       ['B3'],\n",
       "       ['B20'],\n",
       "       ['D6'],\n",
       "       ['B82 B84'],\n",
       "       ['D17'],\n",
       "       ['B96 B98'],\n",
       "       ['A36'],\n",
       "       ['E8'],\n",
       "       ['B102'],\n",
       "       ['B69'],\n",
       "       ['E121'],\n",
       "       ['B28'],\n",
       "       ['E49'],\n",
       "       ['C47'],\n",
       "       ['C92'],\n",
       "       ['D28'],\n",
       "       ['E17'],\n",
       "       ['D17'],\n",
       "       ['A24'],\n",
       "       ['D35'],\n",
       "       ['B51 B53 B55'],\n",
       "       ['C50'],\n",
       "       ['B42'],\n",
       "       ['C148']], dtype=object)"
      ]
     },
     "execution_count": 48,
     "metadata": {},
     "output_type": "execute_result"
    }
   ],
   "source": [
    "data[[\"Cabin\"]].dropna().values"
   ]
  },
  {
   "cell_type": "markdown",
   "metadata": {},
   "source": [
    "### Decision 1: How do we handle the missing values?\n",
    "\n",
    "One option that will be attempted: droping NA"
   ]
  },
  {
   "cell_type": "code",
   "execution_count": 5,
   "metadata": {},
   "outputs": [
    {
     "data": {
      "text/plain": [
       "<AxesSubplot:xlabel='Survived', ylabel='Fare'>"
      ]
     },
     "execution_count": 5,
     "metadata": {},
     "output_type": "execute_result"
    },
    {
     "data": {
      "image/png": "[encoded data removed]",
      "text/plain": [
       "<Figure size 2160x360 with 5 Axes>"
      ]
     },
     "metadata": {
      "needs_background": "light"
     },
     "output_type": "display_data"
    }
   ],
   "source": [
    "fig, axs = plt.subplots(ncols=5, figsize=(30,5))\n",
    "sns.violinplot(x=\"Survived\", y=\"Age\", hue=\"Sex\", data=data, ax=axs[0])\n",
    "sns.pointplot(x=\"SibSp\", y=\"Survived\", hue=\"Sex\", data=data, ax=axs[1])\n",
    "sns.pointplot(x=\"Parch\", y=\"Survived\", hue=\"Sex\", data=data, ax=axs[2])\n",
    "sns.pointplot(x=\"Pclass\", y=\"Survived\", hue=\"Sex\", data=data, ax=axs[3])\n",
    "sns.violinplot(x=\"Survived\", y=\"Fare\", hue=\"Sex\", data=data, ax=axs[4])"
   ]
  },
  {
   "cell_type": "code",
   "execution_count": 6,
   "metadata": {},
   "outputs": [],
   "source": [
    "data.replace({'male': 1, 'female': 0}, inplace=True)"
   ]
  },
  {
   "cell_type": "code",
   "execution_count": 7,
   "metadata": {},
   "outputs": [
    {
     "data": {
      "text/html": [
       "<div>\n",
       "<style scoped>\n",
       "    .dataframe tbody tr th:only-of-type {\n",
       "        vertical-align: middle;\n",
       "    }\n",
       "\n",
       "    .dataframe tbody tr th {\n",
       "        vertical-align: top;\n",
       "    }\n",
       "\n",
       "    .dataframe thead th {\n",
       "        text-align: right;\n",
       "    }\n",
       "</style>\n",
       "<table border=\"1\" class=\"dataframe\">\n",
       "  <thead>\n",
       "    <tr style=\"text-align: right;\">\n",
       "      <th></th>\n",
       "      <th>Survived</th>\n",
       "    </tr>\n",
       "  </thead>\n",
       "  <tbody>\n",
       "    <tr>\n",
       "      <th>PassengerId</th>\n",
       "      <td>0.005007</td>\n",
       "    </tr>\n",
       "    <tr>\n",
       "      <th>Survived</th>\n",
       "      <td>1.000000</td>\n",
       "    </tr>\n",
       "    <tr>\n",
       "      <th>Pclass</th>\n",
       "      <td>0.338481</td>\n",
       "    </tr>\n",
       "    <tr>\n",
       "      <th>Sex</th>\n",
       "      <td>0.543351</td>\n",
       "    </tr>\n",
       "    <tr>\n",
       "      <th>Age</th>\n",
       "      <td>0.077221</td>\n",
       "    </tr>\n",
       "    <tr>\n",
       "      <th>SibSp</th>\n",
       "      <td>0.035322</td>\n",
       "    </tr>\n",
       "    <tr>\n",
       "      <th>Parch</th>\n",
       "      <td>0.081629</td>\n",
       "    </tr>\n",
       "    <tr>\n",
       "      <th>Fare</th>\n",
       "      <td>0.257307</td>\n",
       "    </tr>\n",
       "  </tbody>\n",
       "</table>\n",
       "</div>"
      ],
      "text/plain": [
       "             Survived\n",
       "PassengerId  0.005007\n",
       "Survived     1.000000\n",
       "Pclass       0.338481\n",
       "Sex          0.543351\n",
       "Age          0.077221\n",
       "SibSp        0.035322\n",
       "Parch        0.081629\n",
       "Fare         0.257307"
      ]
     },
     "execution_count": 7,
     "metadata": {},
     "output_type": "execute_result"
    }
   ],
   "source": [
    "data.corr().abs()[[\"Survived\"]]"
   ]
  },
  {
   "cell_type": "code",
   "execution_count": 8,
   "metadata": {},
   "outputs": [],
   "source": [
    "data = data[['Pclass', 'Age', 'Sex','SibSp', 'Parch', 'Fare', 'Survived']].dropna()"
   ]
  },
  {
   "cell_type": "markdown",
   "metadata": {},
   "source": [
    "### Splitting the data"
   ]
  },
  {
   "cell_type": "code",
   "execution_count": 9,
   "metadata": {},
   "outputs": [],
   "source": [
    "from sklearn.model_selection import train_test_split\n",
    "X_train, X_test, y_train, y_test = train_test_split(\n",
    "    data[['Sex','Pclass','Age','SibSp','Parch','Fare']], \n",
    "    data.Survived, test_size=0.2, random_state=0)"
   ]
  },
  {
   "cell_type": "markdown",
   "metadata": {},
   "source": [
    "### Decision 2: Normalizing inputs?\n",
    "\n",
    "\"normalize the inputs such that all features are treated equally. For example, within the dataset the values for age range from ~0-100, while gender is only a 1 or 0. By normalizing all the variables, you can ensure that the ranges of values are all the same.\""
   ]
  },
  {
   "cell_type": "code",
   "execution_count": 10,
   "metadata": {},
   "outputs": [],
   "source": [
    "# from sklearn.preprocessing import StandardScaler\n",
    "# sc = StandardScaler()\n",
    "# X_train = sc.fit_transform(x_train)\n",
    "# X_test = sc.transform(x_test)"
   ]
  },
  {
   "cell_type": "markdown",
   "metadata": {},
   "source": [
    "### Decision 3: Choosing a model"
   ]
  },
  {
   "cell_type": "markdown",
   "metadata": {},
   "source": [
    "### Decision 4: Choosing a model evaluation metric"
   ]
  },
  {
   "cell_type": "markdown",
   "metadata": {},
   "source": [
    "### GaussianNB"
   ]
  },
  {
   "cell_type": "code",
   "execution_count": 11,
   "metadata": {},
   "outputs": [
    {
     "data": {
      "text/plain": [
       "GaussianNB()"
      ]
     },
     "execution_count": 11,
     "metadata": {},
     "output_type": "execute_result"
    }
   ],
   "source": [
    "from sklearn.naive_bayes import GaussianNB\n",
    "model = GaussianNB()\n",
    "model.fit(X_train, y_train)"
   ]
  },
  {
   "cell_type": "code",
   "execution_count": 12,
   "metadata": {},
   "outputs": [
    {
     "name": "stdout",
     "output_type": "stream",
     "text": [
      "0.7622377622377622\n"
     ]
    }
   ],
   "source": [
    "from sklearn import metrics\n",
    "predict_test = model.predict(X_test)\n",
    "print(metrics.accuracy_score(y_test, predict_test))"
   ]
  },
  {
   "cell_type": "markdown",
   "metadata": {},
   "source": [
    "### Neural network"
   ]
  },
  {
   "cell_type": "code",
   "execution_count": 26,
   "metadata": {},
   "outputs": [],
   "source": [
    "from keras.models import Sequential\n",
    "from keras.layers import Dense\n",
    "\n",
    "model = Sequential()"
   ]
  },
  {
   "cell_type": "code",
   "execution_count": 28,
   "metadata": {},
   "outputs": [],
   "source": [
    "model.add(Dense(6, kernel_initializer = 'uniform', activation = 'relu', input_dim = 6))\n",
    "model.add(Dense(6, kernel_initializer = 'uniform', activation = 'relu'))\n",
    "model.add(Dense(1, kernel_initializer = 'uniform', activation = 'sigmoid'))"
   ]
  },
  {
   "cell_type": "code",
   "execution_count": 29,
   "metadata": {},
   "outputs": [
    {
     "name": "stdout",
     "output_type": "stream",
     "text": [
      "Model: \"sequential_3\"\n",
      "_________________________________________________________________\n",
      "Layer (type)                 Output Shape              Param #   \n",
      "=================================================================\n",
      "dense_10 (Dense)             (None, 6)                 42        \n",
      "_________________________________________________________________\n",
      "dense_11 (Dense)             (None, 6)                 42        \n",
      "_________________________________________________________________\n",
      "dense_12 (Dense)             (None, 1)                 7         \n",
      "=================================================================\n",
      "Total params: 91\n",
      "Trainable params: 91\n",
      "Non-trainable params: 0\n",
      "_________________________________________________________________\n"
     ]
    }
   ],
   "source": [
    "model.summary()"
   ]
  },
  {
   "cell_type": "code",
   "execution_count": 30,
   "metadata": {},
   "outputs": [
    {
     "name": "stdout",
     "output_type": "stream",
     "text": [
      "Epoch 1/50\n",
      "571/571 [==============================] - 1s 1ms/step - loss: 0.6900 - accuracy: 0.6515\n",
      "Epoch 2/50\n",
      "571/571 [==============================] - 0s 84us/step - loss: 0.6837 - accuracy: 0.6690\n",
      "Epoch 3/50\n",
      "571/571 [==============================] - 0s 90us/step - loss: 0.6731 - accuracy: 0.6725\n",
      "Epoch 4/50\n",
      "571/571 [==============================] - 0s 87us/step - loss: 0.6582 - accuracy: 0.6725\n",
      "Epoch 5/50\n",
      "571/571 [==============================] - 0s 90us/step - loss: 0.6392 - accuracy: 0.6690\n",
      "Epoch 6/50\n",
      "571/571 [==============================] - 0s 88us/step - loss: 0.6198 - accuracy: 0.6813\n",
      "Epoch 7/50\n",
      "571/571 [==============================] - 0s 86us/step - loss: 0.6069 - accuracy: 0.6830\n",
      "Epoch 8/50\n",
      "571/571 [==============================] - 0s 88us/step - loss: 0.6004 - accuracy: 0.6865\n",
      "Epoch 9/50\n",
      "571/571 [==============================] - 0s 88us/step - loss: 0.5963 - accuracy: 0.6830\n",
      "Epoch 10/50\n",
      "571/571 [==============================] - 0s 88us/step - loss: 0.5923 - accuracy: 0.6935\n",
      "Epoch 11/50\n",
      "571/571 [==============================] - 0s 90us/step - loss: 0.5946 - accuracy: 0.6795\n",
      "Epoch 12/50\n",
      "571/571 [==============================] - 0s 86us/step - loss: 0.5924 - accuracy: 0.6883\n",
      "Epoch 13/50\n",
      "571/571 [==============================] - 0s 90us/step - loss: 0.5855 - accuracy: 0.6970\n",
      "Epoch 14/50\n",
      "571/571 [==============================] - 0s 86us/step - loss: 0.5845 - accuracy: 0.6988\n",
      "Epoch 15/50\n",
      "571/571 [==============================] - 0s 88us/step - loss: 0.5838 - accuracy: 0.6935\n",
      "Epoch 16/50\n",
      "571/571 [==============================] - 0s 94us/step - loss: 0.5811 - accuracy: 0.7093\n",
      "Epoch 17/50\n",
      "571/571 [==============================] - 0s 83us/step - loss: 0.5767 - accuracy: 0.7058\n",
      "Epoch 18/50\n",
      "571/571 [==============================] - 0s 89us/step - loss: 0.5744 - accuracy: 0.7110\n",
      "Epoch 19/50\n",
      "571/571 [==============================] - 0s 94us/step - loss: 0.5728 - accuracy: 0.7093\n",
      "Epoch 20/50\n",
      "571/571 [==============================] - 0s 92us/step - loss: 0.5710 - accuracy: 0.7145\n",
      "Epoch 21/50\n",
      "571/571 [==============================] - 0s 89us/step - loss: 0.5673 - accuracy: 0.7163\n",
      "Epoch 22/50\n",
      "571/571 [==============================] - 0s 90us/step - loss: 0.5661 - accuracy: 0.7058\n",
      "Epoch 23/50\n",
      "571/571 [==============================] - 0s 86us/step - loss: 0.5620 - accuracy: 0.7145\n",
      "Epoch 24/50\n",
      "571/571 [==============================] - 0s 91us/step - loss: 0.5617 - accuracy: 0.7075\n",
      "Epoch 25/50\n",
      "571/571 [==============================] - 0s 92us/step - loss: 0.5617 - accuracy: 0.7180\n",
      "Epoch 26/50\n",
      "571/571 [==============================] - 0s 89us/step - loss: 0.5584 - accuracy: 0.7128\n",
      "Epoch 27/50\n",
      "571/571 [==============================] - 0s 90us/step - loss: 0.5531 - accuracy: 0.7198\n",
      "Epoch 28/50\n",
      "571/571 [==============================] - 0s 90us/step - loss: 0.5515 - accuracy: 0.7233\n",
      "Epoch 29/50\n",
      "571/571 [==============================] - 0s 85us/step - loss: 0.5492 - accuracy: 0.7145\n",
      "Epoch 30/50\n",
      "571/571 [==============================] - 0s 90us/step - loss: 0.5468 - accuracy: 0.7110\n",
      "Epoch 31/50\n",
      "571/571 [==============================] - 0s 91us/step - loss: 0.5458 - accuracy: 0.7093\n",
      "Epoch 32/50\n",
      "571/571 [==============================] - 0s 85us/step - loss: 0.5479 - accuracy: 0.7285\n",
      "Epoch 33/50\n",
      "571/571 [==============================] - 0s 90us/step - loss: 0.5446 - accuracy: 0.7058\n",
      "Epoch 34/50\n",
      "571/571 [==============================] - 0s 91us/step - loss: 0.5387 - accuracy: 0.7268\n",
      "Epoch 35/50\n",
      "571/571 [==============================] - 0s 89us/step - loss: 0.5368 - accuracy: 0.7145\n",
      "Epoch 36/50\n",
      "571/571 [==============================] - 0s 93us/step - loss: 0.5346 - accuracy: 0.7338\n",
      "Epoch 37/50\n",
      "571/571 [==============================] - 0s 90us/step - loss: 0.5311 - accuracy: 0.7233\n",
      "Epoch 38/50\n",
      "571/571 [==============================] - 0s 84us/step - loss: 0.5273 - accuracy: 0.7303\n",
      "Epoch 39/50\n",
      "571/571 [==============================] - 0s 80us/step - loss: 0.5238 - accuracy: 0.7268\n",
      "Epoch 40/50\n",
      "571/571 [==============================] - 0s 78us/step - loss: 0.5196 - accuracy: 0.7373\n",
      "Epoch 41/50\n",
      "571/571 [==============================] - 0s 84us/step - loss: 0.5180 - accuracy: 0.7356\n",
      "Epoch 42/50\n",
      "571/571 [==============================] - 0s 89us/step - loss: 0.5133 - accuracy: 0.7373\n",
      "Epoch 43/50\n",
      "571/571 [==============================] - 0s 85us/step - loss: 0.5121 - accuracy: 0.7496\n",
      "Epoch 44/50\n",
      "571/571 [==============================] - 0s 85us/step - loss: 0.5198 - accuracy: 0.7285\n",
      "Epoch 45/50\n",
      "571/571 [==============================] - 0s 85us/step - loss: 0.5061 - accuracy: 0.7793\n",
      "Epoch 46/50\n",
      "571/571 [==============================] - 0s 84us/step - loss: 0.5017 - accuracy: 0.7653\n",
      "Epoch 47/50\n",
      "571/571 [==============================] - 0s 85us/step - loss: 0.5038 - accuracy: 0.7636\n",
      "Epoch 48/50\n",
      "571/571 [==============================] - 0s 86us/step - loss: 0.4979 - accuracy: 0.7741\n",
      "Epoch 49/50\n",
      "571/571 [==============================] - 0s 79us/step - loss: 0.4938 - accuracy: 0.7793\n",
      "Epoch 50/50\n",
      "571/571 [==============================] - 0s 85us/step - loss: 0.4896 - accuracy: 0.7776\n"
     ]
    },
    {
     "data": {
      "text/plain": [
       "<keras.callbacks.callbacks.History at 0x7fc66969e490>"
      ]
     },
     "execution_count": 30,
     "metadata": {},
     "output_type": "execute_result"
    }
   ],
   "source": [
    "model.compile(optimizer=\"adam\", loss='binary_crossentropy', metrics=['accuracy'])\n",
    "model.fit(X_train, y_train, batch_size=32, epochs=50)"
   ]
  },
  {
   "cell_type": "code",
   "execution_count": 31,
   "metadata": {},
   "outputs": [
    {
     "name": "stdout",
     "output_type": "stream",
     "text": [
      "0.7832167832167832\n"
     ]
    }
   ],
   "source": [
    "y_pred = model.predict_classes(X_test)\n",
    "print(metrics.accuracy_score(y_test, y_pred))"
   ]
  },
  {
   "cell_type": "markdown",
   "metadata": {},
   "source": [
    "### Logistic Regression"
   ]
  },
  {
   "cell_type": "code",
   "execution_count": 32,
   "metadata": {},
   "outputs": [
    {
     "data": {
      "text/plain": [
       "0.8461538461538461"
      ]
     },
     "execution_count": 32,
     "metadata": {},
     "output_type": "execute_result"
    }
   ],
   "source": [
    "from sklearn.linear_model import LogisticRegression\n",
    "logreg = LogisticRegression(random_state=0).fit(X_train, y_train)\n",
    "logreg.score(X_test,y_test)"
   ]
  },
  {
   "cell_type": "markdown",
   "metadata": {},
   "source": [
    "### SVM"
   ]
  },
  {
   "cell_type": "code",
   "execution_count": 37,
   "metadata": {},
   "outputs": [
    {
     "data": {
      "text/plain": [
       "0.6503496503496503"
      ]
     },
     "execution_count": 37,
     "metadata": {},
     "output_type": "execute_result"
    }
   ],
   "source": [
    "from sklearn import svm\n",
    "svm_clf = svm.SVC(C=1).fit(X_train,y_train)\n",
    "svm_clf.score(X_test,y_test)"
   ]
  },
  {
   "cell_type": "markdown",
   "metadata": {},
   "source": [
    "### Linear SVC"
   ]
  },
  {
   "cell_type": "code",
   "execution_count": 38,
   "metadata": {},
   "outputs": [
    {
     "name": "stderr",
     "output_type": "stream",
     "text": [
      "/Users/juan/opt/miniconda3/envs/myenv/lib/python3.7/site-packages/sklearn/svm/_base.py:977: ConvergenceWarning: Liblinear failed to converge, increase the number of iterations.\n",
      "  \"the number of iterations.\", ConvergenceWarning)\n"
     ]
    },
    {
     "data": {
      "text/plain": [
       "0.8251748251748252"
      ]
     },
     "execution_count": 38,
     "metadata": {},
     "output_type": "execute_result"
    }
   ],
   "source": [
    "linsvc = svm.LinearSVC(C=1).fit(X_train,y_train)\n",
    "linsvc.score(X_test,y_test)"
   ]
  }
 ],
 "metadata": {
  "kernelspec": {
   "display_name": "Python 3",
   "language": "python",
   "name": "python3"
  },
  "language_info": {
   "codemirror_mode": {
    "name": "ipython",
    "version": 3
   },
   "file_extension": ".py",
   "mimetype": "text/x-python",
   "name": "python",
   "nbconvert_exporter": "python",
   "pygments_lexer": "ipython3",
   "version": "3.7.9"
  }
 },
 "nbformat": 4,
 "nbformat_minor": 2
}
